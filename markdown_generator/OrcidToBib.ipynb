{
 "cells": [
  {
   "cell_type": "code",
   "execution_count": 1,
   "id": "01f0c5c2-619a-48e0-bb7c-e5e0be009f0e",
   "metadata": {},
   "outputs": [],
   "source": [
    "orcid = '0000-0001-7460-688X' # Fill your orcid here"
   ]
  },
  {
   "cell_type": "code",
   "execution_count": 2,
   "id": "2fe4bc4e-4574-4322-8b18-0c4d33a749fa",
   "metadata": {},
   "outputs": [],
   "source": [
    "import requests"
   ]
  },
  {
   "cell_type": "markdown",
   "id": "44a8b6cd-4034-4fc4-85a8-e3431dc564f1",
   "metadata": {},
   "source": [
    "We use the `/works` api to list all works related to the orcid. This gives a summary of all works, so citation information is not included. We collect the `put-code` of all works to retrieve the citation information later."
   ]
  },
  {
   "cell_type": "code",
   "execution_count": 13,
   "id": "3b04331e-4149-4ca3-a0aa-89e3ba892723",
   "metadata": {},
   "outputs": [],
   "source": [
    "response = requests.get('https://pub.orcid.org/v3.0/{}/works'.format(orcid),\n",
    "                        headers={\"Accept\": \"application/orcid+json\" })\n",
    "record = response.json()"
   ]
  },
  {
   "cell_type": "code",
   "execution_count": 14,
   "id": "16f7c42d-623b-421a-8d87-bbb389313e3b",
   "metadata": {
    "scrolled": true
   },
   "outputs": [],
   "source": [
    "put_codes = []\n",
    "for work in record['group']:\n",
    "    put_code = work['work-summary'][0]['put-code']\n",
    "    put_codes.append(put_code)\n",
    "put_code = put_codes[0]"
   ]
  },
  {
   "cell_type": "markdown",
   "id": "25e5d2aa-5233-486e-abce-a0d07a36c5ce",
   "metadata": {},
   "source": [
    "We use the `/<orcid>/work/<put-code>` endpoint to retrieve the citation information for each record."
   ]
  },
  {
   "cell_type": "code",
   "execution_count": 15,
   "id": "dd797a16-0d91-4271-8e1e-b82579a07e45",
   "metadata": {},
   "outputs": [],
   "source": [
    "citations = []\n",
    "for put_code in put_codes:\n",
    "    response = requests.get('https://pub.orcid.org/v3.0/{}/work/{}'.format(orcid, put_code),\n",
    "                            headers={\"Accept\": \"application/orcid+json\" })\n",
    "    work = response.json()\n",
    "    if work['citation'] is not None:\n",
    "        citations.append(work['citation']['citation-value'])"
   ]
  },
  {
   "cell_type": "code",
   "execution_count": 16,
   "id": "6a757960-4dc6-4ff7-878e-371d5db4b581",
   "metadata": {},
   "outputs": [
    {
     "name": "stdout",
     "output_type": "stream",
     "text": [
      "@inproceedings{meeus-etal-2024-msner,title={{MSNER}: A Multilingual Speech Dataset for Named Entity Recognition},author={Meeus, Quentin  and\n",
      "      Moens, Marie-Francine  and\n",
      "      Van hamme, Hugo},editor={Bunt, Harry  and\n",
      "      Ide, Nancy  and\n",
      "      Lee, Kiyong  and\n",
      "      Petukhova, Volha  and\n",
      "      Pustejovsky, James  and\n",
      "      Romary, Laurent},booktitle={Proceedings of the 20th Joint ACL - ISO Workshop on Interoperable Semantic Annotation @ LREC-COLING 2024},month={may},year={2024},address={Torino, Italia},publisher={ELRA and ICCL},url={https://aclanthology.org/2024.isa-1.2},pages={8--16},abstract={While extensively explored in text-based tasks, Named Entity Recognition (NER) remains largely neglected in spoken language understanding. Existing resources are limited to a single, English-only dataset. This paper addresses this gap by introducing MSNER, a freely available, multilingual speech corpus annotated with named entities. It provides annotations to the VoxPopuli dataset in four languages (Dutch, French, German, and Spanish). We have also releasing an efficient annotation tool that leverages automatic pre-annotations for faster manual refinement. This results in 590 and 15 hours of silver-annotated speech for training and validation, alongside a 17-hour, manually-annotated evaluation set. We further provide an analysis comparing silver and gold annotations. Finally, we present baseline NER models to stimulate further research on this newly available dataset.}}\n",
      "\n",
      "@INPROCEEDINGS{10389786,\n",
      "  author={Meeus, Quentin and Moens, Marie-Francine and Van Hamme, Hugo},\n",
      "  booktitle={2023 IEEE Automatic Speech Recognition and Understanding Workshop (ASRU)}, \n",
      "  title={{Whisper-SLU}: Extending a Pretrained Speech-to-Text Transformer for Low Resource Spoken Language Understanding}, \n",
      "  year={2023},\n",
      "  volume={},\n",
      "  number={},\n",
      "  pages={1-6},\n",
      "  keywords={Human computer interaction;Conferences;Transfer learning;Training data;Transformers;Data models;Robustness;low resource spoken language understanding;named entity recognition;multitask learning},\n",
      "  doi={10.1109/ASRU57964.2023.10389786}}\n",
      "@inproceedings{Meeus_2022,\tdoi = {10.21437/interspeech.2022-11401},\turl = {https://doi.org/10.21437%2Finterspeech.2022-11401},\tyear = 2022,\tmonth = {sep},\tpublisher = {{ISCA}},\tauthor = {Quentin Meeus and Marie Francine Moens and Hugo Van hamme},\ttitle = {Multitask Learning for Low Resource Spoken Language Understanding},\tbooktitle = {Interspeech 2022}}\n",
      "@article{Thornhill_2019,\tdoi = {10.3389/fdata.2019.00011},\turl = {https://doi.org/10.3389%2Ffdata.2019.00011},\tyear = 2019,\tmonth = {jun},\tpublisher = {Frontiers Media {SA}},\tvolume = {2},\tauthor = {Calum Thornhill and Quentin Meeus and Jeroen Peperkamp and Bettina Berendt},\ttitle = {A Digital Nudge to Counter Confirmation Bias},\tjournal = {Frontiers in Big Data}}\n"
     ]
    }
   ],
   "source": [
    "for citation in citations:\n",
    "    print(citation)\n",
    "    "
   ]
  },
  {
   "cell_type": "code",
   "execution_count": 17,
   "id": "ad763df9-261f-41f3-bc32-00921d0a4e11",
   "metadata": {},
   "outputs": [],
   "source": [
    "with open('output.bib', 'w') as bibfile:\n",
    "    for citation in citations:\n",
    "        bibfile.write(citation)\n",
    "        bibfile.write('\\n')"
   ]
  },
  {
   "cell_type": "code",
   "execution_count": null,
   "id": "7b59e5f7-ece0-4e46-be76-4f33db18e9ef",
   "metadata": {},
   "outputs": [],
   "source": []
  }
 ],
 "metadata": {
  "kernelspec": {
   "display_name": "Python 3 (ipykernel)",
   "language": "python",
   "name": "python3"
  },
  "language_info": {
   "codemirror_mode": {
    "name": "ipython",
    "version": 3
   },
   "file_extension": ".py",
   "mimetype": "text/x-python",
   "name": "python",
   "nbconvert_exporter": "python",
   "pygments_lexer": "ipython3",
   "version": "3.12.5"
  }
 },
 "nbformat": 4,
 "nbformat_minor": 5
}
